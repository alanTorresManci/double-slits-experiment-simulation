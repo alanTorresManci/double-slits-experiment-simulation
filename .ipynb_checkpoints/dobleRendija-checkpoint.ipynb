{
 "cells": [
  {
   "cell_type": "markdown",
   "metadata": {},
   "source": [
    "# Doble Rendija"
   ]
  },
  {
   "cell_type": "markdown",
   "metadata": {},
   "source": [
    "<p> Librerías utilizadas para graficación, cálculo matricial y generación de números aleatorios </p>"
   ]
  },
  {
   "cell_type": "code",
   "execution_count": 18,
   "metadata": {},
   "outputs": [],
   "source": [
    "import matplotlib.pyplot as plt\n",
    "from ipywidgets import interact, interactive, fixed, interact_manual\n",
    "import ipywidgets as widgets\n",
    "import numpy as np\n",
    "import random"
   ]
  },
  {
   "cell_type": "markdown",
   "metadata": {},
   "source": [
    "## Una Rendija\n",
    "<img style=\"center\" src=\"https://www.unirioja.es/dptos/dq/fa/emo/amplia/img21.png\" width=\"500px\" height=\"200px\" alt=\"atom\"/>\n",
    "> El patrón de interferencia depende de tres factores principales, *apertura de la rendija*, *longitud de onda ($\\lambda$)*, y *distancia de la rendija a la pantalla*\n",
    "\n",
    "Para obtener el proceso por el cual se ilumina la pantalla está definida por:\n",
    "\n",
    "$$ I(\\theta) = I_0(\\frac{\\sin{\\frac{\\pi a\\sin{\\theta} }{\\lambda}}}{\\frac{\\pi a\\sin{\\theta} }{\\lambda}})^2 $$\n",
    "\n",
    "> Siendo $I_0$ la intensidad del máximo central, que se obtiene al evaluar la función cuando $\\theta = 0$\n",
    "\n",
    "<a href=\"https://www.unirioja.es/dptos/dq/fa/emo/amplia/node2.html#amp_ej6_\"> Demostración de la fórmula </a>"
   ]
  },
  {
   "cell_type": "markdown",
   "metadata": {},
   "source": [
    "## Doble Rendija\n",
    "<img style=\"center\" src=\"https://www.unirioja.es/dptos/dq/fa/emo/amplia/img72.png\" width=\"500px\" height=\"200px\" alt=\"atom\"/>\n",
    "\n",
    "Se puede notar que ahora el patrón de interferencia ya no depende solamente de la apertura de la rendija, sino también de la **separación de las dos rendijas** que conforman el experimento\n",
    "\n",
    "Al utilizar la fórmula anterior se puede obtener que la función de intensidad sobre la pantalla se comporta de la siguiente manera:\n",
    "$$ I(\\theta) = I_0(\\frac{\\sin{\\frac{\\pi a\\sin{\\theta} }{\\lambda}}}{\\frac{\\pi a\\sin{\\theta} }{\\lambda}})^2 \\cos^2(\\frac{\\pi d \\sin\\theta}{2\\lambda}) $$"
   ]
  },
  {
   "cell_type": "code",
   "execution_count": 19,
   "metadata": {},
   "outputs": [],
   "source": [
    "def rend(theta, aLamda, dLamda):\n",
    "    return ((np.sin(np.pi*aLamda*np.sin(theta))/(np.pi*np.sin(theta)))**2)*np.cos(np.pi*dLamda*np.sin(theta))*np.cos(np.pi*dLamda*np.sin(theta))\n",
    "\n",
    "def intensidad(aLamda, dLamda, theta):\n",
    "    return np.array(((np.sin(np.pi*aLamda*np.sin(theta))/(np.pi*np.sin(theta)))**2)*np.cos(np.pi*dLamda*np.sin(theta))*np.cos(np.pi*dLamda*np.sin(theta)))\n",
    "def rendija(aLamda, theta):\n",
    "    return np.array(((np.sin(np.pi*aLamda*np.sin(theta))/(np.pi*np.sin(theta)))**2))"
   ]
  },
  {
   "cell_type": "markdown",
   "metadata": {},
   "source": [
    "### Integración montecarlo\n",
    "Evaluación de integrales numéricamente por el método de montecarlo"
   ]
  },
  {
   "cell_type": "code",
   "execution_count": 20,
   "metadata": {},
   "outputs": [],
   "source": [
    "def montecarlo1(f, a, b, N, aLamda, dLamda):\n",
    "    u = (b-a)*np.random.rand(N)+a\n",
    "    return (b-a)*np.mean(f(u, aLamda, dLamda))"
   ]
  },
  {
   "cell_type": "code",
   "execution_count": 24,
   "metadata": {},
   "outputs": [],
   "source": [
    "y = np.linspace(-60e-3, 60e-3, 700)\n",
    "L = 4\n",
    "\n",
    "def ad(aLamda, dLamda, particulas):\n",
    "    data = intensidad(aLamda, dLamda, np.arcsin(y/L))\n",
    "    i0 = intensidad(aLamda, dLamda, [0.000000000001])\n",
    "    ps = data/(i0)\n",
    "    plt.figure(figsize=(8, 6))\n",
    "    plt.plot(y, ps)\n",
    "    plt.grid()\n",
    "    plt.xlabel(\"Distance (m)\")\n",
    "    plt.ylabel(\"$I/I_0$\")\n",
    "    plt.show()\n",
    "    plt.figure(figsize=(8,6))\n",
    "    \n",
    "    xf = -100\n",
    "    x = y\n",
    "    prob = []\n",
    "    xp = []\n",
    "\n",
    "    p0 = montecarlo1(rend, x[0], x[100], 1*10**5, aLamda, dLamda)/100\n",
    "    p1 = p0 + montecarlo1(rend, x[100], x[200], 1*10**5, aLamda, dLamda)/100\n",
    "    p2 = p1 + montecarlo1(rend, x[200], x[300], 1*10**5, aLamda, dLamda)/100\n",
    "    p3 = p2 + montecarlo1(rend, x[300], x[400], 1*10**5, aLamda, dLamda)/100\n",
    "    p4 = p3 + montecarlo1(rend, x[400], x[500], 1*10**5, aLamda, dLamda)/100\n",
    "    p5 = p4 + montecarlo1(rend, x[500], x[600], 1*10**5, aLamda, dLamda)/100\n",
    "    p6 = p5 + montecarlo1(rend, x[600], x[699], 1*10**5, aLamda, dLamda)/100\n",
    "\n",
    "    x0 = x[0]\n",
    "    x1 = x[100]\n",
    "    x2 = x[200]\n",
    "    x3 = x[300]\n",
    "    x4 = x[400]\n",
    "    x5 = x[500]\n",
    "    x6 = x[600]\n",
    "    x7 = x[699]\n",
    "    \n",
    "    x0p = (x1-x0)/2\n",
    "    x1p = x0p + (x2-x1)/2\n",
    "    x2p = x1p + (x3-x2)/2\n",
    "    x3p = x2p + (x4-x3)/2\n",
    "    x4p = x3p + (x5-x4)/2\n",
    "    x5p = x4p + (x6-x5)/2\n",
    "    x6p = x5p + (x7-x6)/2\n",
    "    xr = np.random.uniform(size = particulas)\n",
    "    yf = np.random.uniform(size = particulas)\n",
    "    for i in range(particulas):\n",
    "        if p0 <= xr[i] and xr[i] < p1:\n",
    "            xf = x0p - x2p\n",
    "        elif p1 <= xr[i] and xr[i] < p2:\n",
    "            xf = x1p - x2p\n",
    "        elif p2 <= xr[i] and xr[i] < p3:\n",
    "            xf = x2p - x2p\n",
    "        elif p3 <= xr[i] and xr[i] < p4:\n",
    "            xf = x3p - x2p\n",
    "        elif p4 <= xr[i] and xr[i] < p5:\n",
    "            xf = x4p - x2p\n",
    "        elif p5 <= xr[i] and xr[i] < p6:\n",
    "            xf = x5p - x2p\n",
    "        plt.scatter(xf, yf[i], color=\"red\")\n",
    "        \n",
    "    plt.plot(-0.06, 0)\n",
    "    plt.plot(0.06, 0)\n",
    "    plt.grid()\n",
    "    ax = plt.gca()\n",
    "    ax.set_facecolor('xkcd:black')\n",
    "    plt.xlabel(\"Distance (m)\")\n",
    "    plt.ylabel(\"Distance (m)\")\n",
    "    plt.show() "
   ]
  },
  {
   "cell_type": "code",
   "execution_count": 25,
   "metadata": {},
   "outputs": [
    {
     "data": {
      "application/vnd.jupyter.widget-view+json": {
       "model_id": "d43f481e95d2440c92bf0d3d028753e9",
       "version_major": 2,
       "version_minor": 0
      },
      "text/html": [
       "<p>Failed to display Jupyter Widget of type <code>interactive</code>.</p>\n",
       "<p>\n",
       "  If you're reading this message in the Jupyter Notebook or JupyterLab Notebook, it may mean\n",
       "  that the widgets JavaScript is still loading. If this message persists, it\n",
       "  likely means that the widgets JavaScript library is either not installed or\n",
       "  not enabled. See the <a href=\"https://ipywidgets.readthedocs.io/en/stable/user_install.html\">Jupyter\n",
       "  Widgets Documentation</a> for setup instructions.\n",
       "</p>\n",
       "<p>\n",
       "  If you're reading this message in another frontend (for example, a static\n",
       "  rendering on GitHub or <a href=\"https://nbviewer.jupyter.org/\">NBViewer</a>),\n",
       "  it may mean that your frontend doesn't currently support widgets.\n",
       "</p>\n"
      ],
      "text/plain": [
       "interactive(children=(IntSlider(value=200, description='aLamda', max=500, min=100, step=10), IntSlider(value=400, description='dLamda', max=500, min=100, step=10), IntSlider(value=100, description='particulas', max=1000000, min=100, step=100), Button(description='Run Interact', style=ButtonStyle()), Output()), _dom_classes=('widget-interact',))"
      ]
     },
     "metadata": {},
     "output_type": "display_data"
    },
    {
     "data": {
      "text/plain": [
       "<function __main__.ad>"
      ]
     },
     "execution_count": 25,
     "metadata": {},
     "output_type": "execute_result"
    }
   ],
   "source": [
    "interact_manual(ad, aLamda=widgets.IntSlider(min=100, max=500, step=10,value=200), dLamda=widgets.IntSlider(min=100, max=500, step=10, value=400), particulas=widgets.IntSlider(min=100, max=1e6, step=100, value=100))"
   ]
  },
  {
   "cell_type": "code",
   "execution_count": null,
   "metadata": {
    "scrolled": true
   },
   "outputs": [],
   "source": []
  },
  {
   "cell_type": "code",
   "execution_count": null,
   "metadata": {},
   "outputs": [],
   "source": []
  },
  {
   "cell_type": "code",
   "execution_count": null,
   "metadata": {},
   "outputs": [],
   "source": []
  }
 ],
 "metadata": {
  "kernelspec": {
   "display_name": "Python 3",
   "language": "python",
   "name": "python3"
  },
  "language_info": {
   "codemirror_mode": {
    "name": "ipython",
    "version": 3
   },
   "file_extension": ".py",
   "mimetype": "text/x-python",
   "name": "python",
   "nbconvert_exporter": "python",
   "pygments_lexer": "ipython3",
   "version": "3.6.4"
  }
 },
 "nbformat": 4,
 "nbformat_minor": 2
}
