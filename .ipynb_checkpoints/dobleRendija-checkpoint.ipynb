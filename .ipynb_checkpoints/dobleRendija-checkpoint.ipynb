{
 "cells": [
  {
   "cell_type": "code",
   "execution_count": 76,
   "metadata": {},
   "outputs": [],
   "source": [
    "import matplotlib.pyplot as plt\n",
    "from ipywidgets import interact, interactive, fixed, interact_manual\n",
    "from scipy.integrate import simps\n",
    "import ipywidgets as widgets\n",
    "import numpy as np\n",
    "import random"
   ]
  },
  {
   "cell_type": "code",
   "execution_count": 77,
   "metadata": {},
   "outputs": [],
   "source": [
    "def rend(theta, aLamda, dLamda):\n",
    "    return ((np.sin(np.pi*aLamda*np.sin(theta))/(np.pi*np.sin(theta)))**2)*np.cos(np.pi*dLamda*np.sin(theta))*np.cos(np.pi*dLamda*np.sin(theta))\n",
    "\n",
    "def intensidad(aLamda, dLamda, theta):\n",
    "    return np.array(((np.sin(np.pi*aLamda*np.sin(theta))/(np.pi*np.sin(theta)))**2)*np.cos(np.pi*dLamda*np.sin(theta))*np.cos(np.pi*dLamda*np.sin(theta)))\n",
    "def rendija(aLamda, theta):\n",
    "    return np.array(((np.sin(np.pi*aLamda*np.sin(theta))/(np.pi*np.sin(theta)))**2))"
   ]
  },
  {
   "cell_type": "code",
   "execution_count": 78,
   "metadata": {},
   "outputs": [],
   "source": [
    "def montecarlo1(f, a, b, N, aLamda, dLamda):\n",
    "    u = (b-a)*np.random.rand(N)+a\n",
    "    return (b-a)*np.mean(f(u, aLamda, dLamda))"
   ]
  },
  {
   "cell_type": "code",
   "execution_count": null,
   "metadata": {},
   "outputs": [],
   "source": []
  },
  {
   "cell_type": "code",
   "execution_count": 120,
   "metadata": {},
   "outputs": [],
   "source": [
    "y = np.linspace(-60e-3, 60e-3, 700)\n",
    "L = 4\n",
    "\n",
    "def ad(aLamda, dLamda, particulas):\n",
    "    data = intensidad(aLamda, dLamda, np.arcsin(y/L))\n",
    "    i0 = intensidad(aLamda, dLamda, [0.000000000001])\n",
    "    ps = data/(i0)\n",
    "    plt.figure(figsize=(8, 6))\n",
    "    plt.plot(y, ps)\n",
    "    plt.grid()\n",
    "    plt.show()\n",
    "    plt.figure(figsize=(8,6))\n",
    "    \n",
    "    xf = -100\n",
    "    x = y\n",
    "    prob = []\n",
    "    xp = []\n",
    "\n",
    "    p0 = montecarlo1(rend, x[0], x[100], 1*10**5, aLamda, dLamda)/100\n",
    "    p1 = p0 + montecarlo1(rend, x[100], x[200], 1*10**5, aLamda, dLamda)/100\n",
    "    p2 = p1 + montecarlo1(rend, x[200], x[300], 1*10**5, aLamda, dLamda)/100\n",
    "    p3 = p2 + montecarlo1(rend, x[300], x[400], 1*10**5, aLamda, dLamda)/100\n",
    "    p4 = p3 + montecarlo1(rend, x[400], x[500], 1*10**5, aLamda, dLamda)/100\n",
    "    p5 = p4 + montecarlo1(rend, x[500], x[600], 1*10**5, aLamda, dLamda)/100\n",
    "    p6 = p5 + montecarlo1(rend, x[600], x[699], 1*10**5, aLamda, dLamda)/100\n",
    "\n",
    "    x0 = x[0]\n",
    "    x1 = x[100]\n",
    "    x2 = x[200]\n",
    "    x3 = x[300]\n",
    "    x4 = x[400]\n",
    "    x5 = x[500]\n",
    "    x6 = x[600]\n",
    "    x7 = x[699]\n",
    "    \n",
    "    x0p = (x1-x0)/2\n",
    "    x1p = x0p + (x2-x1)/2\n",
    "    x2p = x1p + (x3-x2)/2\n",
    "    x3p = x2p + (x4-x3)/2\n",
    "    x4p = x3p + (x5-x4)/2\n",
    "    x5p = x4p + (x6-x5)/2\n",
    "    x6p = x5p + (x7-x6)/2\n",
    "    print(\"pos 2: \"+str(x2p))\n",
    "    \n",
    "    for i in range(particulas):\n",
    "        xr = np.random.uniform()\n",
    "        #print(xr)\n",
    "        if p0 <= xr and xr < p1:\n",
    "            xf = x0p - x2p\n",
    "        elif p1 <= xr and xr < p2:\n",
    "            xf = x1p - x2p\n",
    "        elif p2 <= xr and xr < p3:\n",
    "            xf = x2p - x2p\n",
    "        elif p3 <= xr and xr < p4:\n",
    "            xf = x3p - x2p\n",
    "        elif p4 <= xr and xr < p5:\n",
    "            xf = x4p - x2p\n",
    "        elif p5 <= xr and xr < p6:\n",
    "            xf = x5p - x2p\n",
    "        yf = np.random.uniform()\n",
    "        plt.scatter(xf, yf)\n",
    "        #plt.scatter(-xf, yf)\n",
    "    \"\"\"\n",
    "    partes = np.linspace(-0.06, 0.06, 10)\n",
    "    for i in range(len(partes)-1):\n",
    "        if i != 0:\n",
    "            prob.append(prob[i-1] + montecarlo1(rend, partes[i], partes[i+1], 1*10**5, aLamda, dLamda)/100)\n",
    "        else:\n",
    "            prob.append(montecarlo1(rend, partes[i], partes[i+1], 1*10**5, aLamda, dLamda)/100)\n",
    "            \n",
    "    #print(prob)\n",
    "    for i in range(len(partes)-1):\n",
    "        if i != 0:\n",
    "            xp.append(xp[i-1] + ((partes[i+1] - partes[i])/2))\n",
    "        else:\n",
    "            xp.append((partes[i+1] - partes[i])/2)\n",
    "            \n",
    "    for i in range(particulas):\n",
    "        xf = -100\n",
    "        xr = np.random.uniform()\n",
    "        for j in range(len(prob)-1):\n",
    "            if prob[j] <= xr and xr < prob[j+1]:\n",
    "                xf = xp[j]\n",
    "        if xf == -100:\n",
    "            xf = xp[-1]\n",
    "        yf = np.random.uniform()\n",
    "        plt.scatter(xf, yf)\n",
    "    \"\"\"    \n",
    "    plt.plot(-0.06, 0)\n",
    "    plt.plot(0.06, 0)\n",
    "    plt.grid()\n",
    "    ax = plt.gca()\n",
    "    ax.set_facecolor('xkcd:black')\n",
    "    plt.show() "
   ]
  },
  {
   "cell_type": "code",
   "execution_count": 121,
   "metadata": {},
   "outputs": [
    {
     "data": {
      "application/vnd.jupyter.widget-view+json": {
       "model_id": "9af987d3648d48169aa9d5e8ffd4973a",
       "version_major": 2,
       "version_minor": 0
      },
      "text/html": [
       "<p>Failed to display Jupyter Widget of type <code>interactive</code>.</p>\n",
       "<p>\n",
       "  If you're reading this message in the Jupyter Notebook or JupyterLab Notebook, it may mean\n",
       "  that the widgets JavaScript is still loading. If this message persists, it\n",
       "  likely means that the widgets JavaScript library is either not installed or\n",
       "  not enabled. See the <a href=\"https://ipywidgets.readthedocs.io/en/stable/user_install.html\">Jupyter\n",
       "  Widgets Documentation</a> for setup instructions.\n",
       "</p>\n",
       "<p>\n",
       "  If you're reading this message in another frontend (for example, a static\n",
       "  rendering on GitHub or <a href=\"https://nbviewer.jupyter.org/\">NBViewer</a>),\n",
       "  it may mean that your frontend doesn't currently support widgets.\n",
       "</p>\n"
      ],
      "text/plain": [
       "interactive(children=(IntSlider(value=200, description='aLamda', max=500, min=100, step=10), IntSlider(value=400, description='dLamda', max=500, min=100, step=10), IntSlider(value=100, description='particulas', max=1000000, min=100, step=100), Button(description='Run Interact', style=ButtonStyle()), Output()), _dom_classes=('widget-interact',))"
      ]
     },
     "metadata": {},
     "output_type": "display_data"
    },
    {
     "data": {
      "text/plain": [
       "<function __main__.ad>"
      ]
     },
     "execution_count": 121,
     "metadata": {},
     "output_type": "execute_result"
    },
    {
     "data": {
      "image/png": "[encoded data removed]",
      "text/plain": [
       "<Figure size 576x432 with 1 Axes>"
      ]
     },
     "metadata": {},
     "output_type": "display_data"
    }
   ],
   "source": [
    "interact_manual(ad, aLamda=widgets.IntSlider(min=100, max=500, step=10,value=200), dLamda=widgets.IntSlider(min=100, max=500, step=10, value=400), particulas=widgets.IntSlider(min=100, max=1e6, step=100, value=100))"
   ]
  },
  {
   "cell_type": "code",
   "execution_count": null,
   "metadata": {
    "scrolled": true
   },
   "outputs": [],
   "source": []
  },
  {
   "cell_type": "code",
   "execution_count": null,
   "metadata": {},
   "outputs": [],
   "source": []
  },
  {
   "cell_type": "code",
   "execution_count": null,
   "metadata": {},
   "outputs": [],
   "source": []
  }
 ],
 "metadata": {
  "kernelspec": {
   "display_name": "Python 3",
   "language": "python",
   "name": "python3"
  },
  "language_info": {
   "codemirror_mode": {
    "name": "ipython",
    "version": 3
   },
   "file_extension": ".py",
   "mimetype": "text/x-python",
   "name": "python",
   "nbconvert_exporter": "python",
   "pygments_lexer": "ipython3",
   "version": "3.6.4"
  }
 },
 "nbformat": 4,
 "nbformat_minor": 2
}
